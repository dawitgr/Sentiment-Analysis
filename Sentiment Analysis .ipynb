{
 "cells": [
  {
   "cell_type": "markdown",
   "metadata": {},
   "source": [
    "# Independent study - Sentiment Analysis "
   ]
  },
  {
   "cell_type": "markdown",
   "metadata": {},
   "source": [
    "Dawit Reda\n",
    "ID#10189420\n",
    "Independent Study: Sentiment Analysis - Progress 4\n",
    "Submitted to Dr. Daniel Wu"
   ]
  },
  {
   "cell_type": "markdown",
   "metadata": {},
   "source": [
    "# Introduction"
   ]
  },
  {
   "cell_type": "markdown",
   "metadata": {},
   "source": [
    "According to the EMarketer’s research, Amazon covers almost 49.1% of an online sale in USA ecommerce market [1]. These days, buying a product online becomes convenient and easy with the product reviews and rates, the user also becomes highly interested to see the star and a review of a product before they decided to buy anything. People's online review opinion has a high impact in an online marketing. Since, Sentiment Analysis is extremely helpful to gain an overview of a public opinion behind the products and to understand what people are talking about the products online. Sentiment analysis is a natural language processing technique, which helps to identify and categorize opinions and to detect and extract subjective information in data and reviews [2]. In this project, I am going to analyze a customer review for Amazon Automotive product using Machine learning algorithms like Naive Bayes, Random forest classifier and Support Vector machines. "
   ]
  },
  {
   "cell_type": "markdown",
   "metadata": {},
   "source": [
    "## Purpose of the Project "
   ]
  },
  {
   "cell_type": "markdown",
   "metadata": {},
   "source": [
    "The purpose of this project is to investigate and analyze Amazon product review for a specific Automotive product using supervised learning algorithms and Natural language processing algorithms. This project determines a customer’s opinion about and determine the what the review expresses and classifies the review into negative, neutral and positive classes."
   ]
  },
  {
   "cell_type": "markdown",
   "metadata": {},
   "source": [
    "## Relevance of the Project "
   ]
  },
  {
   "cell_type": "markdown",
   "metadata": {},
   "source": [
    "Understanding what people think about a specific product is the most important information during decision making processes for a company, Since, NLP and Machine Learning algorithms techniques help us to solve questions like “What does the customer think about the product” in order to make better decision. This project explores how natural language processing and sentiment analysis works and how to implement a machine learning algorithm to classify and evaluate an opinion into different sentiments. "
   ]
  },
  {
   "cell_type": "markdown",
   "metadata": {},
   "source": [
    "## 1. Data Collection and Preprocessing"
   ]
  },
  {
   "cell_type": "markdown",
   "metadata": {},
   "source": [
    "### 1.1 Import Libraries"
   ]
  },
  {
   "cell_type": "code",
   "execution_count": 83,
   "metadata": {},
   "outputs": [],
   "source": [
    "#import important libraries  \n",
    "import pandas as pd\n",
    "import numpy as np\n",
    "import re\n",
    "from wordcloud import WordCloud, STOPWORDS\n",
    "import matplotlib.pyplot as plt\n",
    "import time\n",
    "from sklearn.model_selection import train_test_split, GridSearchCV\n",
    "import nltk\n",
    "from nltk.tokenize import word_tokenize\n",
    "from nltk.corpus import stopwords\n",
    "import itertools\n",
    "from sklearn.naive_bayes import MultinomialNB\n",
    "from sklearn.pipeline import Pipeline\n",
    "from collections import Counter\n",
    "import seaborn as sns\n",
    "from sklearn.feature_extraction.text import CountVectorizer, TfidfTransformer\n",
    "from sklearn.metrics import classification_report\n",
    "from sklearn import metrics\n",
    "from sklearn.model_selection import train_test_split\n",
    "from sklearn.metrics import classification_report, confusion_matrix, accuracy_score\n",
    "from sklearn.ensemble import RandomForestClassifier\n",
    "from sklearn import svm"
   ]
  },
  {
   "cell_type": "markdown",
   "metadata": {},
   "source": [
    "### 1.2 Load Data"
   ]
  },
  {
   "cell_type": "code",
   "execution_count": 3,
   "metadata": {},
   "outputs": [
    {
     "data": {
      "text/html": [
       "<div>\n",
       "<style scoped>\n",
       "    .dataframe tbody tr th:only-of-type {\n",
       "        vertical-align: middle;\n",
       "    }\n",
       "\n",
       "    .dataframe tbody tr th {\n",
       "        vertical-align: top;\n",
       "    }\n",
       "\n",
       "    .dataframe thead th {\n",
       "        text-align: right;\n",
       "    }\n",
       "</style>\n",
       "<table border=\"1\" class=\"dataframe\">\n",
       "  <thead>\n",
       "    <tr style=\"text-align: right;\">\n",
       "      <th></th>\n",
       "      <th>marketplace</th>\n",
       "      <th>customer_id</th>\n",
       "      <th>review_id</th>\n",
       "      <th>product_id</th>\n",
       "      <th>product_parent</th>\n",
       "      <th>product_title</th>\n",
       "      <th>product_category</th>\n",
       "      <th>star_rating</th>\n",
       "      <th>helpful_votes</th>\n",
       "      <th>total_votes</th>\n",
       "      <th>vine</th>\n",
       "      <th>verified_purchase</th>\n",
       "      <th>review_headline</th>\n",
       "      <th>review_body</th>\n",
       "      <th>review_date</th>\n",
       "    </tr>\n",
       "  </thead>\n",
       "  <tbody>\n",
       "    <tr>\n",
       "      <th>0</th>\n",
       "      <td>US</td>\n",
       "      <td>36075342</td>\n",
       "      <td>RAB23OVFNCXZQ</td>\n",
       "      <td>B00LPRXQ4Y</td>\n",
       "      <td>339193102</td>\n",
       "      <td>17\" 2003-2006 Ford EXPEDITION Ford F150 2004-2...</td>\n",
       "      <td>Automotive</td>\n",
       "      <td>1</td>\n",
       "      <td>0.0</td>\n",
       "      <td>0.0</td>\n",
       "      <td>N</td>\n",
       "      <td>Y</td>\n",
       "      <td>As it was used,</td>\n",
       "      <td>As it was used, the method that Ford used to a...</td>\n",
       "      <td>2015-08-31</td>\n",
       "    </tr>\n",
       "    <tr>\n",
       "      <th>1</th>\n",
       "      <td>US</td>\n",
       "      <td>42462164</td>\n",
       "      <td>R3NORADVJO6IE6</td>\n",
       "      <td>B000C7S0TO</td>\n",
       "      <td>907684644</td>\n",
       "      <td>Spectra Premium CU1909 Complete Radiator for T...</td>\n",
       "      <td>Automotive</td>\n",
       "      <td>5</td>\n",
       "      <td>0.0</td>\n",
       "      <td>0.0</td>\n",
       "      <td>N</td>\n",
       "      <td>Y</td>\n",
       "      <td>Five Stars</td>\n",
       "      <td>Put it in fine, no problems. Shipping was dece...</td>\n",
       "      <td>2015-08-31</td>\n",
       "    </tr>\n",
       "    <tr>\n",
       "      <th>2</th>\n",
       "      <td>US</td>\n",
       "      <td>21241933</td>\n",
       "      <td>R299F4SO98S5OO</td>\n",
       "      <td>B000CO9WE4</td>\n",
       "      <td>752246352</td>\n",
       "      <td>K&amp;N E-4665 High Performance Replacement Indust...</td>\n",
       "      <td>Automotive</td>\n",
       "      <td>5</td>\n",
       "      <td>1.0</td>\n",
       "      <td>1.0</td>\n",
       "      <td>N</td>\n",
       "      <td>Y</td>\n",
       "      <td>Great fit and performance on the surface drive...</td>\n",
       "      <td>Fit wonderfully on my 36HP Pro-Drive motor.</td>\n",
       "      <td>2015-08-31</td>\n",
       "    </tr>\n",
       "    <tr>\n",
       "      <th>3</th>\n",
       "      <td>US</td>\n",
       "      <td>52570308</td>\n",
       "      <td>R2DA9DOT03UW6I</td>\n",
       "      <td>B000GKD5NI</td>\n",
       "      <td>105401756</td>\n",
       "      <td>Suncutters Rear Window Shade</td>\n",
       "      <td>Automotive</td>\n",
       "      <td>5</td>\n",
       "      <td>2.0</td>\n",
       "      <td>3.0</td>\n",
       "      <td>N</td>\n",
       "      <td>Y</td>\n",
       "      <td>Good for the price. Fits fairly good on 2010 T...</td>\n",
       "      <td>Good for the price!  So far I have put it up i...</td>\n",
       "      <td>2015-08-31</td>\n",
       "    </tr>\n",
       "    <tr>\n",
       "      <th>4</th>\n",
       "      <td>US</td>\n",
       "      <td>38200102</td>\n",
       "      <td>R2OGCH681EQHU6</td>\n",
       "      <td>B009SDA7TE</td>\n",
       "      <td>728471129</td>\n",
       "      <td>Lug Nuts Landcruiser Tundra OEM Mag 14x1.5 Thr...</td>\n",
       "      <td>Automotive</td>\n",
       "      <td>5</td>\n",
       "      <td>0.0</td>\n",
       "      <td>0.0</td>\n",
       "      <td>N</td>\n",
       "      <td>Y</td>\n",
       "      <td>Five Stars</td>\n",
       "      <td>Fit perfectly on my 2012 Tundra with stock alu...</td>\n",
       "      <td>2015-08-31</td>\n",
       "    </tr>\n",
       "  </tbody>\n",
       "</table>\n",
       "</div>"
      ],
      "text/plain": [
       "  marketplace  customer_id       review_id  product_id  product_parent  \\\n",
       "0          US     36075342   RAB23OVFNCXZQ  B00LPRXQ4Y       339193102   \n",
       "1          US     42462164  R3NORADVJO6IE6  B000C7S0TO       907684644   \n",
       "2          US     21241933  R299F4SO98S5OO  B000CO9WE4       752246352   \n",
       "3          US     52570308  R2DA9DOT03UW6I  B000GKD5NI       105401756   \n",
       "4          US     38200102  R2OGCH681EQHU6  B009SDA7TE       728471129   \n",
       "\n",
       "                                       product_title product_category  \\\n",
       "0  17\" 2003-2006 Ford EXPEDITION Ford F150 2004-2...       Automotive   \n",
       "1  Spectra Premium CU1909 Complete Radiator for T...       Automotive   \n",
       "2  K&N E-4665 High Performance Replacement Indust...       Automotive   \n",
       "3                       Suncutters Rear Window Shade       Automotive   \n",
       "4  Lug Nuts Landcruiser Tundra OEM Mag 14x1.5 Thr...       Automotive   \n",
       "\n",
       "  star_rating  helpful_votes  total_votes vine verified_purchase  \\\n",
       "0           1            0.0          0.0    N                 Y   \n",
       "1           5            0.0          0.0    N                 Y   \n",
       "2           5            1.0          1.0    N                 Y   \n",
       "3           5            2.0          3.0    N                 Y   \n",
       "4           5            0.0          0.0    N                 Y   \n",
       "\n",
       "                                     review_headline  \\\n",
       "0                                    As it was used,   \n",
       "1                                         Five Stars   \n",
       "2  Great fit and performance on the surface drive...   \n",
       "3  Good for the price. Fits fairly good on 2010 T...   \n",
       "4                                         Five Stars   \n",
       "\n",
       "                                         review_body review_date  \n",
       "0  As it was used, the method that Ford used to a...  2015-08-31  \n",
       "1  Put it in fine, no problems. Shipping was dece...  2015-08-31  \n",
       "2        Fit wonderfully on my 36HP Pro-Drive motor.  2015-08-31  \n",
       "3  Good for the price!  So far I have put it up i...  2015-08-31  \n",
       "4  Fit perfectly on my 2012 Tundra with stock alu...  2015-08-31  "
      ]
     },
     "execution_count": 3,
     "metadata": {},
     "output_type": "execute_result"
    }
   ],
   "source": [
    "#get data for amazon AWS product review for Automotive product \n",
    "def import_Automotive_review_data():\n",
    "    #list of product reviews \n",
    "    list_of_amazon_reviews = r'https://s3.amazonaws.com/amazon-reviews-pds/tsv/index.txt'\n",
    "    #a url for automotive reviews\n",
    "    amazon_link = r'https://s3.amazonaws.com/amazon-reviews-pds/tsv/amazon_reviews_us_Automotive_v1_00.tsv.gz'\n",
    "    #read the data from the url\n",
    "    df = pd.read_table(amazon_link, sep='\\t',error_bad_lines=False,low_memory=False,warn_bad_lines=False)\n",
    "      \n",
    "    return df\n",
    "\n",
    "#first five rows of the dataset\n",
    "import_Automotive_review_data().head()"
   ]
  },
  {
   "cell_type": "code",
   "execution_count": 85,
   "metadata": {},
   "outputs": [],
   "source": [
    " # gives number of row count\n",
    "data_len = len(import_Automotive_review_data())\n",
    "count_row = df.shape[0] "
   ]
  },
  {
   "cell_type": "code",
   "execution_count": 86,
   "metadata": {},
   "outputs": [
    {
     "data": {
      "text/plain": [
       "3510895"
      ]
     },
     "execution_count": 86,
     "metadata": {},
     "output_type": "execute_result"
    }
   ],
   "source": [
    "ddata_len\n"
   ]
  },
  {
   "cell_type": "markdown",
   "metadata": {},
   "source": [
    "### 1.3 Remove unnecessary columns"
   ]
  },
  {
   "cell_type": "code",
   "execution_count": 4,
   "metadata": {},
   "outputs": [
    {
     "data": {
      "text/html": [
       "<div>\n",
       "<style scoped>\n",
       "    .dataframe tbody tr th:only-of-type {\n",
       "        vertical-align: middle;\n",
       "    }\n",
       "\n",
       "    .dataframe tbody tr th {\n",
       "        vertical-align: top;\n",
       "    }\n",
       "\n",
       "    .dataframe thead th {\n",
       "        text-align: right;\n",
       "    }\n",
       "</style>\n",
       "<table border=\"1\" class=\"dataframe\">\n",
       "  <thead>\n",
       "    <tr style=\"text-align: right;\">\n",
       "      <th></th>\n",
       "      <th>product_title</th>\n",
       "      <th>star_rating</th>\n",
       "      <th>review_headline</th>\n",
       "      <th>review_body</th>\n",
       "    </tr>\n",
       "  </thead>\n",
       "  <tbody>\n",
       "    <tr>\n",
       "      <th>0</th>\n",
       "      <td>17\" 2003-2006 Ford EXPEDITION Ford F150 2004-2...</td>\n",
       "      <td>1</td>\n",
       "      <td>As it was used,</td>\n",
       "      <td>As it was used, the method that Ford used to a...</td>\n",
       "    </tr>\n",
       "    <tr>\n",
       "      <th>1</th>\n",
       "      <td>Spectra Premium CU1909 Complete Radiator for T...</td>\n",
       "      <td>5</td>\n",
       "      <td>Five Stars</td>\n",
       "      <td>Put it in fine, no problems. Shipping was dece...</td>\n",
       "    </tr>\n",
       "    <tr>\n",
       "      <th>2</th>\n",
       "      <td>K&amp;N E-4665 High Performance Replacement Indust...</td>\n",
       "      <td>5</td>\n",
       "      <td>Great fit and performance on the surface drive...</td>\n",
       "      <td>Fit wonderfully on my 36HP Pro-Drive motor.</td>\n",
       "    </tr>\n",
       "    <tr>\n",
       "      <th>3</th>\n",
       "      <td>Suncutters Rear Window Shade</td>\n",
       "      <td>5</td>\n",
       "      <td>Good for the price. Fits fairly good on 2010 T...</td>\n",
       "      <td>Good for the price!  So far I have put it up i...</td>\n",
       "    </tr>\n",
       "    <tr>\n",
       "      <th>4</th>\n",
       "      <td>Lug Nuts Landcruiser Tundra OEM Mag 14x1.5 Thr...</td>\n",
       "      <td>5</td>\n",
       "      <td>Five Stars</td>\n",
       "      <td>Fit perfectly on my 2012 Tundra with stock alu...</td>\n",
       "    </tr>\n",
       "  </tbody>\n",
       "</table>\n",
       "</div>"
      ],
      "text/plain": [
       "                                       product_title star_rating  \\\n",
       "0  17\" 2003-2006 Ford EXPEDITION Ford F150 2004-2...           1   \n",
       "1  Spectra Premium CU1909 Complete Radiator for T...           5   \n",
       "2  K&N E-4665 High Performance Replacement Indust...           5   \n",
       "3                       Suncutters Rear Window Shade           5   \n",
       "4  Lug Nuts Landcruiser Tundra OEM Mag 14x1.5 Thr...           5   \n",
       "\n",
       "                                     review_headline  \\\n",
       "0                                    As it was used,   \n",
       "1                                         Five Stars   \n",
       "2  Great fit and performance on the surface drive...   \n",
       "3  Good for the price. Fits fairly good on 2010 T...   \n",
       "4                                         Five Stars   \n",
       "\n",
       "                                         review_body  \n",
       "0  As it was used, the method that Ford used to a...  \n",
       "1  Put it in fine, no problems. Shipping was dece...  \n",
       "2        Fit wonderfully on my 36HP Pro-Drive motor.  \n",
       "3  Good for the price!  So far I have put it up i...  \n",
       "4  Fit perfectly on my 2012 Tundra with stock alu...  "
      ]
     },
     "execution_count": 4,
     "metadata": {},
     "output_type": "execute_result"
    }
   ],
   "source": [
    "#remove unnecessary columns from the data and select the stars, review headlines and review body columns\n",
    "def select_important_columns():\n",
    "    df = import_Automotive_review_data()\n",
    "    df = df[['product_title','star_rating','review_headline','review_body']]\n",
    "    return df\n",
    "select_important_columns().head()"
   ]
  },
  {
   "cell_type": "markdown",
   "metadata": {},
   "source": [
    "### 1.4 Top 5 reviewed Automotive Products in Amazon"
   ]
  },
  {
   "cell_type": "code",
   "execution_count": 5,
   "metadata": {},
   "outputs": [
    {
     "data": {
      "text/plain": [
       "BAFX Products 34t5 Bluetooth OBDII Scan Tool for Android Devices                                             4888\n",
       "Battery Tender Jr. Battery Charger                                                                           4415\n",
       "Autel MaxiScan MS300 CAN Diagnostic Scan Tool for OBDII Vehicles                                             3703\n",
       "FINIGO 3-Way Multi Socket Auto Car Cigarette Lighter Splitter with USB Port+ dual USB Car Charger Adapter    3594\n",
       "Jump-N-Carry                                                                                                 3134\n",
       "Name: product_title, dtype: int64"
      ]
     },
     "execution_count": 5,
     "metadata": {},
     "output_type": "execute_result"
    }
   ],
   "source": [
    "#find the top 5 reviewed automotive products which has a max review\n",
    "def top_5_reviewed_Automotive_product():\n",
    "    df =select_important_columns() \n",
    "    # value_counts()  will return a count in  descending order \n",
    "    return df['product_title'].value_counts()\n",
    "top_5_reviewed_Automotive_product().head()"
   ]
  },
  {
   "cell_type": "markdown",
   "metadata": {},
   "source": [
    "#### 1.4.1 Get the most reviewed Automotive product in Amazon"
   ]
  },
  {
   "cell_type": "code",
   "execution_count": 6,
   "metadata": {},
   "outputs": [
    {
     "data": {
      "text/plain": [
       "product_title                                                     product_title                                                   \n",
       "BAFX Products 34t5 Bluetooth OBDII Scan Tool for Android Devices  BAFX Products 34t5 Bluetooth OBDII Scan Tool for Android Devices    4888\n",
       "Name: product_title, dtype: int64"
      ]
     },
     "execution_count": 6,
     "metadata": {},
     "output_type": "execute_result"
    }
   ],
   "source": [
    "#get the highest automotive review product\n",
    "def highest_review_product():\n",
    "    df =select_important_columns() \n",
    "    get_the_highest_row_count = df.groupby(['product_title'])['product_title'].value_counts().nlargest(1)\n",
    "    return get_the_highest_row_count\n",
    "highest_review_product()"
   ]
  },
  {
   "cell_type": "markdown",
   "metadata": {},
   "source": [
    "### 1.5 Get all the reviews for the highest reviewed product"
   ]
  },
  {
   "cell_type": "code",
   "execution_count": 7,
   "metadata": {},
   "outputs": [
    {
     "data": {
      "text/html": [
       "<div>\n",
       "<style scoped>\n",
       "    .dataframe tbody tr th:only-of-type {\n",
       "        vertical-align: middle;\n",
       "    }\n",
       "\n",
       "    .dataframe tbody tr th {\n",
       "        vertical-align: top;\n",
       "    }\n",
       "\n",
       "    .dataframe thead th {\n",
       "        text-align: right;\n",
       "    }\n",
       "</style>\n",
       "<table border=\"1\" class=\"dataframe\">\n",
       "  <thead>\n",
       "    <tr style=\"text-align: right;\">\n",
       "      <th></th>\n",
       "      <th>product_title</th>\n",
       "      <th>star_rating</th>\n",
       "      <th>review_headline</th>\n",
       "      <th>review_body</th>\n",
       "    </tr>\n",
       "  </thead>\n",
       "  <tbody>\n",
       "    <tr>\n",
       "      <th>874</th>\n",
       "      <td>BAFX Products 34t5 Bluetooth OBDII Scan Tool f...</td>\n",
       "      <td>5</td>\n",
       "      <td>Works every time using apps on my Windows Lumi...</td>\n",
       "      <td>Works every time using apps on my Windows Lumi...</td>\n",
       "    </tr>\n",
       "    <tr>\n",
       "      <th>901</th>\n",
       "      <td>BAFX Products 34t5 Bluetooth OBDII Scan Tool f...</td>\n",
       "      <td>5</td>\n",
       "      <td>Five Stars</td>\n",
       "      <td>Very cool and helpful.</td>\n",
       "    </tr>\n",
       "    <tr>\n",
       "      <th>1128</th>\n",
       "      <td>BAFX Products 34t5 Bluetooth OBDII Scan Tool f...</td>\n",
       "      <td>4</td>\n",
       "      <td>Four Stars</td>\n",
       "      <td>Bluetooth connection can lag at times but over...</td>\n",
       "    </tr>\n",
       "    <tr>\n",
       "      <th>1330</th>\n",
       "      <td>BAFX Products 34t5 Bluetooth OBDII Scan Tool f...</td>\n",
       "      <td>4</td>\n",
       "      <td>I like it. The only thing is it's a bit ...</td>\n",
       "      <td>Works very well.  I like it.  The only thing i...</td>\n",
       "    </tr>\n",
       "    <tr>\n",
       "      <th>1400</th>\n",
       "      <td>BAFX Products 34t5 Bluetooth OBDII Scan Tool f...</td>\n",
       "      <td>4</td>\n",
       "      <td>Four Stars</td>\n",
       "      <td>It works!</td>\n",
       "    </tr>\n",
       "  </tbody>\n",
       "</table>\n",
       "</div>"
      ],
      "text/plain": [
       "                                          product_title star_rating  \\\n",
       "874   BAFX Products 34t5 Bluetooth OBDII Scan Tool f...           5   \n",
       "901   BAFX Products 34t5 Bluetooth OBDII Scan Tool f...           5   \n",
       "1128  BAFX Products 34t5 Bluetooth OBDII Scan Tool f...           4   \n",
       "1330  BAFX Products 34t5 Bluetooth OBDII Scan Tool f...           4   \n",
       "1400  BAFX Products 34t5 Bluetooth OBDII Scan Tool f...           4   \n",
       "\n",
       "                                        review_headline  \\\n",
       "874   Works every time using apps on my Windows Lumi...   \n",
       "901                                          Five Stars   \n",
       "1128                                         Four Stars   \n",
       "1330        I like it. The only thing is it's a bit ...   \n",
       "1400                                         Four Stars   \n",
       "\n",
       "                                            review_body  \n",
       "874   Works every time using apps on my Windows Lumi...  \n",
       "901                              Very cool and helpful.  \n",
       "1128  Bluetooth connection can lag at times but over...  \n",
       "1330  Works very well.  I like it.  The only thing i...  \n",
       "1400                                          It works!  "
      ]
     },
     "execution_count": 7,
     "metadata": {},
     "output_type": "execute_result"
    }
   ],
   "source": [
    "#get the highest reviewed BAFX Products only from the amazon automotive review data\n",
    "def get_highest_reviewed_Products():\n",
    "    df =select_important_columns() \n",
    "    df_clean = df[df['product_title'] =='BAFX Products 34t5 Bluetooth OBDII Scan Tool for Android Devices']\n",
    "    return df_clean\n",
    "\n",
    "get_highest_reviewed_Products().head()"
   ]
  },
  {
   "cell_type": "markdown",
   "metadata": {},
   "source": [
    "### 1.6 Length of the reviews"
   ]
  },
  {
   "cell_type": "code",
   "execution_count": 8,
   "metadata": {},
   "outputs": [
    {
     "data": {
      "text/plain": [
       "312832"
      ]
     },
     "execution_count": 8,
     "metadata": {},
     "output_type": "execute_result"
    }
   ],
   "source": [
    "#count the length of the data for BAFX Products \n",
    "def len_of_data():\n",
    "    df =get_highest_reviewed_Products() \n",
    "    length_of_data =sum(len(text) for text in df['product_title'])     \n",
    "    \n",
    "    return length_of_data\n",
    "#total len of the data is 312832\n",
    "len_of_data()"
   ]
  },
  {
   "cell_type": "markdown",
   "metadata": {},
   "source": [
    "### 1.7 Concatenate the review headline and the review body "
   ]
  },
  {
   "cell_type": "code",
   "execution_count": 9,
   "metadata": {},
   "outputs": [
    {
     "data": {
      "text/html": [
       "<div>\n",
       "<style scoped>\n",
       "    .dataframe tbody tr th:only-of-type {\n",
       "        vertical-align: middle;\n",
       "    }\n",
       "\n",
       "    .dataframe tbody tr th {\n",
       "        vertical-align: top;\n",
       "    }\n",
       "\n",
       "    .dataframe thead th {\n",
       "        text-align: right;\n",
       "    }\n",
       "</style>\n",
       "<table border=\"1\" class=\"dataframe\">\n",
       "  <thead>\n",
       "    <tr style=\"text-align: right;\">\n",
       "      <th></th>\n",
       "      <th>star_rating</th>\n",
       "      <th>Review</th>\n",
       "    </tr>\n",
       "  </thead>\n",
       "  <tbody>\n",
       "    <tr>\n",
       "      <th>874</th>\n",
       "      <td>5</td>\n",
       "      <td>Works every time using apps on my Windows Lumi...</td>\n",
       "    </tr>\n",
       "    <tr>\n",
       "      <th>901</th>\n",
       "      <td>5</td>\n",
       "      <td>Five Stars Very cool and helpful.</td>\n",
       "    </tr>\n",
       "    <tr>\n",
       "      <th>1128</th>\n",
       "      <td>4</td>\n",
       "      <td>Four Stars Bluetooth connection can lag at tim...</td>\n",
       "    </tr>\n",
       "    <tr>\n",
       "      <th>1330</th>\n",
       "      <td>4</td>\n",
       "      <td>I like it. The only thing is it's a bit ... Wo...</td>\n",
       "    </tr>\n",
       "    <tr>\n",
       "      <th>1400</th>\n",
       "      <td>4</td>\n",
       "      <td>Four Stars It works!</td>\n",
       "    </tr>\n",
       "  </tbody>\n",
       "</table>\n",
       "</div>"
      ],
      "text/plain": [
       "     star_rating                                             Review\n",
       "874            5  Works every time using apps on my Windows Lumi...\n",
       "901            5                  Five Stars Very cool and helpful.\n",
       "1128           4  Four Stars Bluetooth connection can lag at tim...\n",
       "1330           4  I like it. The only thing is it's a bit ... Wo...\n",
       "1400           4                               Four Stars It works!"
      ]
     },
     "execution_count": 9,
     "metadata": {},
     "output_type": "execute_result"
    }
   ],
   "source": [
    "#concatenate the review headline and the review of the product \n",
    "def Review_data():\n",
    "    df = get_highest_reviewed_Products()\n",
    "    #remove SettingwithCopyWarning warning\n",
    "    pd.options.mode.chained_assignment = None\n",
    "    df['Review'] = df['review_headline'].str.cat(df['review_body'],sep=\" \")\n",
    "    df_new = df[['star_rating','Review']]\n",
    "    return df_new\n",
    "Review_data().head()"
   ]
  },
  {
   "cell_type": "code",
   "execution_count": 88,
   "metadata": {},
   "outputs": [
    {
     "data": {
      "text/plain": [
       "1520241"
      ]
     },
     "execution_count": 88,
     "metadata": {},
     "output_type": "execute_result"
    }
   ],
   "source": [
    "#count the length of the merged data for BAFX Products \n",
    "def len_of_merged_data():\n",
    "    df =Review_data() \n",
    "    length_of_data =sum(len(text) for text in df['Review'])     \n",
    "    \n",
    "    return length_of_data\n",
    "#total len of the data is 312832\n",
    "len_of_merged_data()"
   ]
  },
  {
   "cell_type": "markdown",
   "metadata": {},
   "source": [
    "### 1.8 Removing Special Characters"
   ]
  },
  {
   "cell_type": "code",
   "execution_count": 11,
   "metadata": {},
   "outputs": [
    {
     "data": {
      "text/html": [
       "<div>\n",
       "<style scoped>\n",
       "    .dataframe tbody tr th:only-of-type {\n",
       "        vertical-align: middle;\n",
       "    }\n",
       "\n",
       "    .dataframe tbody tr th {\n",
       "        vertical-align: top;\n",
       "    }\n",
       "\n",
       "    .dataframe thead th {\n",
       "        text-align: right;\n",
       "    }\n",
       "</style>\n",
       "<table border=\"1\" class=\"dataframe\">\n",
       "  <thead>\n",
       "    <tr style=\"text-align: right;\">\n",
       "      <th></th>\n",
       "      <th>star_rating</th>\n",
       "      <th>Review</th>\n",
       "    </tr>\n",
       "  </thead>\n",
       "  <tbody>\n",
       "    <tr>\n",
       "      <th>874</th>\n",
       "      <td>5</td>\n",
       "      <td>works every time using apps on my windows lumi...</td>\n",
       "    </tr>\n",
       "    <tr>\n",
       "      <th>901</th>\n",
       "      <td>5</td>\n",
       "      <td>five stars very cool and helpful</td>\n",
       "    </tr>\n",
       "    <tr>\n",
       "      <th>1128</th>\n",
       "      <td>4</td>\n",
       "      <td>four stars bluetooth connection can lag at tim...</td>\n",
       "    </tr>\n",
       "    <tr>\n",
       "      <th>1330</th>\n",
       "      <td>4</td>\n",
       "      <td>i like it the only thing is it s a bit works v...</td>\n",
       "    </tr>\n",
       "    <tr>\n",
       "      <th>1400</th>\n",
       "      <td>4</td>\n",
       "      <td>four stars it works</td>\n",
       "    </tr>\n",
       "  </tbody>\n",
       "</table>\n",
       "</div>"
      ],
      "text/plain": [
       "     star_rating                                             Review\n",
       "874            5  works every time using apps on my windows lumi...\n",
       "901            5                  five stars very cool and helpful \n",
       "1128           4  four stars bluetooth connection can lag at tim...\n",
       "1330           4  i like it the only thing is it s a bit works v...\n",
       "1400           4                               four stars it works "
      ]
     },
     "execution_count": 11,
     "metadata": {},
     "output_type": "execute_result"
    }
   ],
   "source": [
    "#remove all special characters and Uniform Spelling of Words to lowercase \n",
    "def Data_PreProcessing():\n",
    "    df = Review_data()\n",
    "    \n",
    "    #uniform the automotive data into lowercase \n",
    "    df['Review'] = [x.lower() for x in df['Review']]\n",
    "    \n",
    "    #Removing Special Characters from the review\n",
    "    df['Review'] = [re.sub(r\"[^a-zA-Z0-9]+\", ' ', x) for x in df['Review']]\n",
    "    \n",
    "    # remove URLs with www and https from the review\n",
    "    df['Review'] =[re.sub('((www\\.[^\\s]+)|(https?://[^\\s]+))', ' ', x) for x in df['Review']]\n",
    "    \n",
    "    # remove the # from each review\n",
    "    df['Review'] = [re.sub(r'#([^\\s]+)', '', x) for x in df['Review']]\n",
    "    \n",
    "    return df\n",
    "#display processed data    \n",
    "Data_PreProcessing().head()"
   ]
  },
  {
   "cell_type": "code",
   "execution_count": 13,
   "metadata": {},
   "outputs": [
    {
     "name": "stdout",
     "output_type": "stream",
     "text": [
      "<class 'pandas.core.frame.DataFrame'>\n",
      "Int64Index: 4888 entries, 874 to 3341399\n",
      "Data columns (total 2 columns):\n",
      "star_rating    4888 non-null object\n",
      "Review         4888 non-null object\n",
      "dtypes: object(2)\n",
      "memory usage: 114.6+ KB\n"
     ]
    },
    {
     "data": {
      "text/plain": [
       "(None,        star_rating                  Review\n",
       " count         4888                    4888\n",
       " unique           5                    4804\n",
       " top              5  five stars works great\n",
       " freq          3628                      18)"
      ]
     },
     "execution_count": 13,
     "metadata": {},
     "output_type": "execute_result"
    }
   ],
   "source": [
    "#get some info and describe of the data\n",
    "def describe_data():\n",
    "    cleaned_data =Data_PreProcessing()\n",
    "    info = cleaned_data.info()\n",
    "    #describe of the file\n",
    "    describe = cleaned_data.describe()\n",
    "    \n",
    "    return info, describe\n",
    "\n",
    "describe_data()"
   ]
  },
  {
   "cell_type": "markdown",
   "metadata": {},
   "source": [
    "# 2. Text Classification, Feature Extraction and Sentiment Visualization "
   ]
  },
  {
   "cell_type": "markdown",
   "metadata": {},
   "source": [
    "### 2.1 Count words in each review"
   ]
  },
  {
   "cell_type": "code",
   "execution_count": 14,
   "metadata": {},
   "outputs": [
    {
     "data": {
      "text/html": [
       "<div>\n",
       "<style scoped>\n",
       "    .dataframe tbody tr th:only-of-type {\n",
       "        vertical-align: middle;\n",
       "    }\n",
       "\n",
       "    .dataframe tbody tr th {\n",
       "        vertical-align: top;\n",
       "    }\n",
       "\n",
       "    .dataframe thead th {\n",
       "        text-align: right;\n",
       "    }\n",
       "</style>\n",
       "<table border=\"1\" class=\"dataframe\">\n",
       "  <thead>\n",
       "    <tr style=\"text-align: right;\">\n",
       "      <th></th>\n",
       "      <th>star_rating</th>\n",
       "      <th>Review</th>\n",
       "      <th>Word_Count</th>\n",
       "    </tr>\n",
       "  </thead>\n",
       "  <tbody>\n",
       "    <tr>\n",
       "      <th>874</th>\n",
       "      <td>5</td>\n",
       "      <td>works every time using apps on my windows lumi...</td>\n",
       "      <td>38</td>\n",
       "    </tr>\n",
       "    <tr>\n",
       "      <th>901</th>\n",
       "      <td>5</td>\n",
       "      <td>five stars very cool and helpful</td>\n",
       "      <td>6</td>\n",
       "    </tr>\n",
       "    <tr>\n",
       "      <th>1128</th>\n",
       "      <td>4</td>\n",
       "      <td>four stars bluetooth connection can lag at tim...</td>\n",
       "      <td>12</td>\n",
       "    </tr>\n",
       "    <tr>\n",
       "      <th>1330</th>\n",
       "      <td>4</td>\n",
       "      <td>i like it the only thing is it s a bit works v...</td>\n",
       "      <td>27</td>\n",
       "    </tr>\n",
       "    <tr>\n",
       "      <th>1400</th>\n",
       "      <td>4</td>\n",
       "      <td>four stars it works</td>\n",
       "      <td>4</td>\n",
       "    </tr>\n",
       "  </tbody>\n",
       "</table>\n",
       "</div>"
      ],
      "text/plain": [
       "     star_rating                                             Review  \\\n",
       "874            5  works every time using apps on my windows lumi...   \n",
       "901            5                  five stars very cool and helpful    \n",
       "1128           4  four stars bluetooth connection can lag at tim...   \n",
       "1330           4  i like it the only thing is it s a bit works v...   \n",
       "1400           4                               four stars it works    \n",
       "\n",
       "      Word_Count  \n",
       "874           38  \n",
       "901            6  \n",
       "1128          12  \n",
       "1330          27  \n",
       "1400           4  "
      ]
     },
     "execution_count": 14,
     "metadata": {},
     "output_type": "execute_result"
    }
   ],
   "source": [
    "#count words in each review and add a column called Word_Count\n",
    "def count_words():\n",
    "    cleaned_data =Data_PreProcessing()\n",
    "    cleaned_data[\"Word_Count\"] = cleaned_data['Review'].str.lower().str.split().apply(len)\n",
    "    \n",
    "    return cleaned_data\n",
    "count_words().head()"
   ]
  },
  {
   "cell_type": "markdown",
   "metadata": {},
   "source": [
    "### 2.2 Creating a Labels of the Review"
   ]
  },
  {
   "cell_type": "code",
   "execution_count": 87,
   "metadata": {},
   "outputs": [
    {
     "data": {
      "text/html": [
       "<div>\n",
       "<style scoped>\n",
       "    .dataframe tbody tr th:only-of-type {\n",
       "        vertical-align: middle;\n",
       "    }\n",
       "\n",
       "    .dataframe tbody tr th {\n",
       "        vertical-align: top;\n",
       "    }\n",
       "\n",
       "    .dataframe thead th {\n",
       "        text-align: right;\n",
       "    }\n",
       "</style>\n",
       "<table border=\"1\" class=\"dataframe\">\n",
       "  <thead>\n",
       "    <tr style=\"text-align: right;\">\n",
       "      <th></th>\n",
       "      <th>star_rating</th>\n",
       "      <th>Review</th>\n",
       "      <th>Word_Count</th>\n",
       "      <th>Labels</th>\n",
       "    </tr>\n",
       "  </thead>\n",
       "  <tbody>\n",
       "    <tr>\n",
       "      <th>874</th>\n",
       "      <td>5</td>\n",
       "      <td>works every time using apps on my windows lumi...</td>\n",
       "      <td>38</td>\n",
       "      <td>Positive</td>\n",
       "    </tr>\n",
       "    <tr>\n",
       "      <th>901</th>\n",
       "      <td>5</td>\n",
       "      <td>five stars very cool and helpful</td>\n",
       "      <td>6</td>\n",
       "      <td>Positive</td>\n",
       "    </tr>\n",
       "    <tr>\n",
       "      <th>1128</th>\n",
       "      <td>4</td>\n",
       "      <td>four stars bluetooth connection can lag at tim...</td>\n",
       "      <td>12</td>\n",
       "      <td>Positive</td>\n",
       "    </tr>\n",
       "    <tr>\n",
       "      <th>1330</th>\n",
       "      <td>4</td>\n",
       "      <td>i like it the only thing is it s a bit works v...</td>\n",
       "      <td>27</td>\n",
       "      <td>Positive</td>\n",
       "    </tr>\n",
       "    <tr>\n",
       "      <th>1400</th>\n",
       "      <td>4</td>\n",
       "      <td>four stars it works</td>\n",
       "      <td>4</td>\n",
       "      <td>Positive</td>\n",
       "    </tr>\n",
       "  </tbody>\n",
       "</table>\n",
       "</div>"
      ],
      "text/plain": [
       "     star_rating                                             Review  \\\n",
       "874            5  works every time using apps on my windows lumi...   \n",
       "901            5                  five stars very cool and helpful    \n",
       "1128           4  four stars bluetooth connection can lag at tim...   \n",
       "1330           4  i like it the only thing is it s a bit works v...   \n",
       "1400           4                               four stars it works    \n",
       "\n",
       "      Word_Count    Labels  \n",
       "874           38  Positive  \n",
       "901            6  Positive  \n",
       "1128          12  Positive  \n",
       "1330          27  Positive  \n",
       "1400           4  Positive  "
      ]
     },
     "execution_count": 87,
     "metadata": {},
     "output_type": "execute_result"
    }
   ],
   "source": [
    "#let's create a new column\n",
    "def labels_of_the_review():\n",
    "    df =count_words()\n",
    "    #refactoring the code -- create a dict to store the star rating and map it to three classes \n",
    "    lable_maping = {'1': 'Negative',\n",
    "                    '2':'Negative',\n",
    "                    '3':'Neutral',\n",
    "                    '4':'Positive',\n",
    "                    '5':'Positive'}\n",
    "    df['Labels']=df['star_rating'].map(lable_maping)\n",
    "    \n",
    "    return df\n",
    "        \n",
    "labels_of_the_review().head()     "
   ]
  },
  {
   "cell_type": "markdown",
   "metadata": {},
   "source": [
    "## 2.3  Sentiment Visualization"
   ]
  },
  {
   "cell_type": "code",
   "execution_count": 16,
   "metadata": {},
   "outputs": [
    {
     "data": {
      "image/png": "[encoded data removed]",
      "text/plain": [
       "<Figure size 1080x216 with 5 Axes>"
      ]
     },
     "metadata": {
      "needs_background": "light"
     },
     "output_type": "display_data"
    }
   ],
   "source": [
    "#let's see Seaborn’s FacetGrid which will allows us to create a grid of histograms placed side by side as below for the star rating\n",
    "def FacetGrid_hist():\n",
    "    df = labels_of_the_review()\n",
    "    g = sns.FacetGrid(data=df, col='star_rating')\n",
    "    g.map(plt.hist, 'Word_Count', bins=50)\n",
    "    \n",
    "FacetGrid_hist()"
   ]
  },
  {
   "cell_type": "code",
   "execution_count": 17,
   "metadata": {},
   "outputs": [
    {
     "data": {
      "image/png": "[encoded data removed]",
      "text/plain": [
       "<Figure size 648x216 with 3 Axes>"
      ]
     },
     "metadata": {
      "needs_background": "light"
     },
     "output_type": "display_data"
    }
   ],
   "source": [
    "#let's see the Seaborn’s FacetGrid for the labels too\n",
    "def FacetGrid_hist_Labels():\n",
    "    df = labels_of_the_review()\n",
    "    g = sns.FacetGrid(data=df, col='Labels')\n",
    "    g.map(plt.hist, 'Word_Count', bins=50)\n",
    "    \n",
    "FacetGrid_hist_Labels()"
   ]
  },
  {
   "cell_type": "code",
   "execution_count": 18,
   "metadata": {},
   "outputs": [
    {
     "data": {
      "image/png": "[encoded data removed]",
      "text/plain": [
       "<Figure size 432x288 with 1 Axes>"
      ]
     },
     "metadata": {
      "needs_background": "light"
     },
     "output_type": "display_data"
    }
   ],
   "source": [
    "#let’s create a box plot of the review text length for each star rating\n",
    "def boxplot_star_rating():\n",
    "    df = labels_of_the_review()\n",
    "    sns.boxplot(x='star_rating', y='Word_Count', data=df)\n",
    "boxplot_star_rating()"
   ]
  },
  {
   "cell_type": "code",
   "execution_count": 19,
   "metadata": {},
   "outputs": [
    {
     "data": {
      "image/png": "[encoded data removed]",
      "text/plain": [
       "<Figure size 432x288 with 1 Axes>"
      ]
     },
     "metadata": {
      "needs_background": "light"
     },
     "output_type": "display_data"
    }
   ],
   "source": [
    "#let’s create a box plot of the review text length for each Lables\n",
    "def boxplot_Lables():\n",
    "    df = labels_of_the_review()\n",
    "    sns.boxplot(x='Labels', y='Word_Count', data=df)\n",
    "boxplot_Lables()"
   ]
  },
  {
   "cell_type": "code",
   "execution_count": 20,
   "metadata": {},
   "outputs": [
    {
     "name": "stdout",
     "output_type": "stream",
     "text": [
      "<class 'pandas.core.frame.DataFrame'>\n",
      "Int64Index: 4888 entries, 874 to 3341399\n",
      "Data columns (total 4 columns):\n",
      "star_rating    4888 non-null object\n",
      "Review         4888 non-null object\n",
      "Word_Count     4888 non-null int64\n",
      "Labels         4888 non-null object\n",
      "dtypes: int64(1), object(3)\n",
      "memory usage: 190.9+ KB\n"
     ]
    }
   ],
   "source": [
    "df = labels_of_the_review()\n",
    "df.info()"
   ]
  },
  {
   "cell_type": "code",
   "execution_count": 21,
   "metadata": {},
   "outputs": [
    {
     "data": {
      "text/plain": [
       "5    0.742226\n",
       "4    0.142390\n",
       "1    0.053191\n",
       "3    0.039484\n",
       "2    0.022709\n",
       "Name: star_rating, dtype: float64"
      ]
     },
     "execution_count": 21,
     "metadata": {},
     "output_type": "execute_result"
    }
   ],
   "source": [
    "# show star_rating distribution\n",
    "df[\"star_rating\"].value_counts(normalize = True)"
   ]
  },
  {
   "cell_type": "code",
   "execution_count": 22,
   "metadata": {},
   "outputs": [
    {
     "data": {
      "text/html": [
       "<div>\n",
       "<style scoped>\n",
       "    .dataframe tbody tr th:only-of-type {\n",
       "        vertical-align: middle;\n",
       "    }\n",
       "\n",
       "    .dataframe tbody tr th {\n",
       "        vertical-align: top;\n",
       "    }\n",
       "\n",
       "    .dataframe thead th {\n",
       "        text-align: right;\n",
       "    }\n",
       "</style>\n",
       "<table border=\"1\" class=\"dataframe\">\n",
       "  <thead>\n",
       "    <tr style=\"text-align: right;\">\n",
       "      <th></th>\n",
       "      <th>Word_Count</th>\n",
       "    </tr>\n",
       "  </thead>\n",
       "  <tbody>\n",
       "    <tr>\n",
       "      <th>Word_Count</th>\n",
       "      <td>1.0</td>\n",
       "    </tr>\n",
       "  </tbody>\n",
       "</table>\n",
       "</div>"
      ],
      "text/plain": [
       "            Word_Count\n",
       "Word_Count         1.0"
      ]
     },
     "execution_count": 22,
     "metadata": {},
     "output_type": "execute_result"
    }
   ],
   "source": [
    "#Let’s group the data by the star rating, and see if we can find a correlation between features \n",
    "def star_rating_correlation():\n",
    "    df = labels_of_the_review()\n",
    "    stars = df.groupby('Labels').mean()\n",
    "    return stars.corr()\n",
    "star_rating_correlation()    "
   ]
  },
  {
   "cell_type": "code",
   "execution_count": 23,
   "metadata": {},
   "outputs": [
    {
     "data": {
      "image/png": "[encoded data removed]",
      "text/plain": [
       "<Figure size 432x288 with 2 Axes>"
      ]
     },
     "metadata": {
      "needs_background": "light"
     },
     "output_type": "display_data"
    }
   ],
   "source": [
    "def visualize_correlation():\n",
    "    df = labels_of_the_review()\n",
    "    stars = df.groupby('Labels').mean()\n",
    "    sns.heatmap(data=stars.corr(), annot=True)\n",
    "visualize_correlation()"
   ]
  },
  {
   "cell_type": "code",
   "execution_count": 90,
   "metadata": {},
   "outputs": [
    {
     "data": {
      "image/png": "[encoded data removed]",
      "text/plain": [
       "<Figure size 576x432 with 1 Axes>"
      ]
     },
     "metadata": {
      "needs_background": "light"
     },
     "output_type": "display_data"
    }
   ],
   "source": [
    "def plot_bar_graph_star():\n",
    "    df = labels_of_the_review()\n",
    "    fig = plt.figure(figsize=(8,6))\n",
    "    df.groupby('star_rating').Review.count().plot.bar(ylim=0)\n",
    "    plt.title(\"Bar graph of Star Rating and Review Count\")\n",
    "    plt.xlabel(\"Star Rating\")\n",
    "    plt.ylabel(\"Review Count\")\n",
    "    plt.show()\n",
    "plot_bar_graph_star()"
   ]
  },
  {
   "cell_type": "code",
   "execution_count": 93,
   "metadata": {},
   "outputs": [
    {
     "data": {
      "image/png": "[encoded data removed]",
      "text/plain": [
       "<Figure size 576x360 with 1 Axes>"
      ]
     },
     "metadata": {},
     "output_type": "display_data"
    },
    {
     "name": "stdout",
     "output_type": "stream",
     "text": [
      "334.90154242515564\n"
     ]
    }
   ],
   "source": [
    "#Understanding the common words used in the Review\n",
    "#Let’s visualize all the words together for the cleaned data using the wordcloud plot.\n",
    "def word_cloud_all_words():\n",
    "    review = labels_of_the_review()['Review']\n",
    "      \n",
    "    wordcloud = WordCloud(\n",
    "        width = 800,\n",
    "        height = 600,\n",
    "        background_color = 'black',\n",
    "        stopwords = STOPWORDS).generate(str(review))\n",
    "    fig = plt.figure(\n",
    "        figsize = (8, 5),\n",
    "        facecolor = 'k',\n",
    "        edgecolor = 'k')\n",
    "    plt.imshow(wordcloud, interpolation = 'bilinear')\n",
    "    plt.axis('off')\n",
    "    plt.tight_layout(pad=0)\n",
    "    plt.show()\n",
    "\n",
    "    \n",
    "#measuring elapsed time\n",
    "start_time = time.time()\n",
    "word_cloud_all_words()\n",
    "elapsed_time = time.time() - start_time\n",
    "print(elapsed_time)"
   ]
  },
  {
   "cell_type": "markdown",
   "metadata": {},
   "source": [
    "# 3. Machine Learning Technique: Tokenization and Balancing oversampling"
   ]
  },
  {
   "cell_type": "markdown",
   "metadata": {},
   "source": [
    "## 3.1 Balancing oversampling"
   ]
  },
  {
   "cell_type": "markdown",
   "metadata": {},
   "source": [
    "As we can see below, we have {'Positive': 4324, 'Negative': 371, 'Neutral': 193} which is not balanced, we need to take the least common labels to balance the oversampling"
   ]
  },
  {
   "cell_type": "code",
   "execution_count": 26,
   "metadata": {},
   "outputs": [
    {
     "name": "stdout",
     "output_type": "stream",
     "text": [
      "4888\n",
      "Counter({'Positive': 4324, 'Negative': 371, 'Neutral': 193})\n"
     ]
    }
   ],
   "source": [
    "data = labels_of_the_review()\n",
    "\n",
    "labels_class=[]\n",
    "for labels in data['Labels']:\n",
    "    labels_class.append(labels)\n",
    "print(len(labels_class)) \n",
    "\n",
    "#number of positive, negative and nuetral occurrences in the data are:\n",
    "print(Counter(labels_class))"
   ]
  },
  {
   "cell_type": "code",
   "execution_count": 27,
   "metadata": {},
   "outputs": [],
   "source": [
    "# Let's create a function which will balance the labels and the review of the data using Counter() function\n",
    "def balancing_labels(X, Y):       \n",
    "    frequency = Counter(Y)     \n",
    "    #the most_common function will return a list of the n most common elements and their counts from \n",
    "    #the most common to the least.\n",
    "    max_allowable = frequency.most_common()[-1][1]\n",
    "    num_added = {labels: 0 for labels in frequency.keys()}\n",
    "    new_y = []\n",
    "    new_x = []\n",
    "    for a, y in enumerate(Y):\n",
    "        if num_added[y] < max_allowable:\n",
    "            new_y.append(y)\n",
    "            new_x.append(X[a])\n",
    "            num_added[y] += 1\n",
    "    return new_x, new_y\n"
   ]
  },
  {
   "cell_type": "code",
   "execution_count": 28,
   "metadata": {},
   "outputs": [],
   "source": [
    "def balancing_label_review():\n",
    "    df_data =labels_of_the_review()\n",
    "    Labels = []\n",
    "    Review=[]\n",
    "    for a in df_data['Review']:\n",
    "        Review.append(a)\n",
    "    for b in df_data['Labels']:\n",
    "        Labels.append(b)\n",
    "    return Review,Labels\n",
    "   "
   ]
  },
  {
   "cell_type": "code",
   "execution_count": 29,
   "metadata": {},
   "outputs": [],
   "source": [
    "#now let's balance the review data and the labels using the function\n",
    "def balanced_input_data():\n",
    "    review,labels=balancing_label_review()\n",
    "    x_review, y_labels=balancing_labels(review,labels)\n",
    "    return x_review, y_labels\n",
    "\n",
    "x_review, y_labels = balanced_input_data()"
   ]
  },
  {
   "cell_type": "code",
   "execution_count": 30,
   "metadata": {},
   "outputs": [
    {
     "data": {
      "text/plain": [
       "579"
      ]
     },
     "execution_count": 30,
     "metadata": {},
     "output_type": "execute_result"
    }
   ],
   "source": [
    "#total of Positive, Neutral, Negative = 193*3 = 579\n",
    "len(x_review)"
   ]
  },
  {
   "cell_type": "code",
   "execution_count": 31,
   "metadata": {},
   "outputs": [
    {
     "data": {
      "text/plain": [
       "Counter({'Positive': 193, 'Neutral': 193, 'Negative': 193})"
      ]
     },
     "execution_count": 31,
     "metadata": {},
     "output_type": "execute_result"
    }
   ],
   "source": [
    "Counter(y_labels)"
   ]
  },
  {
   "cell_type": "markdown",
   "metadata": {},
   "source": [
    "As we can see above, the data has been balanced into 193 from all the inputs - Counter({'Positive': 193, 'Neutral': 193, 'Negative': 193}), now we can build a model based on the balanced data"
   ]
  },
  {
   "cell_type": "markdown",
   "metadata": {},
   "source": [
    "### 3.2 Tokenization,Removing Short Words and Stemming  Using NLTK "
   ]
  },
  {
   "cell_type": "code",
   "execution_count": 91,
   "metadata": {},
   "outputs": [],
   "source": [
    "#tokenize, Lemmatization and remove if the length of the words is less than 3 for all the reviews\n",
    "def tokenize_review():\n",
    "    x_review, y_labels = balanced_input_data()\n",
    "    list_of_words =[]\n",
    "    for text in x_review:\n",
    "        #split the string into word\n",
    "        tokens = nltk.tokenize.word_tokenize(text)\n",
    "        #remove short words if their length is less than three\n",
    "        tokens = [a for a in tokens if len(a)>3]       \n",
    "        #let's converting a word to its base form using WordNet lemmatizer        \n",
    "        tokens =[nltk.stem.WordNetLemmatizer().lemmatize(a) for a in tokens]\n",
    "        #append the words into list of words \n",
    "        list_of_words.append(tokens)\n",
    "    return list_of_words,y_labels\n",
    "#display some of the tokenize data\n",
    "tokenize_review()[0:2]"
   ]
  },
  {
   "cell_type": "markdown",
   "metadata": {},
   "source": [
    "### 3.3 Stopwords Removal"
   ]
  },
  {
   "cell_type": "code",
   "execution_count": 92,
   "metadata": {},
   "outputs": [],
   "source": [
    "# filter out or remove the stopwords\n",
    "def stop_word_removal():\n",
    "    #Stopwords removal\n",
    "    x_review, y_labels=tokenize_review()\n",
    "    cleaned_data = []\n",
    "    for words in x_review:\n",
    "        stop_words = set(stopwords.words('english'))\n",
    "        words = [w for w in words if not w in stop_words]\n",
    "        cleaned_data.append(words)\n",
    "    return cleaned_data,y_labels\n",
    "#display some sample outputs\n",
    "\n",
    "stop_word_removal()[:2]"
   ]
  },
  {
   "cell_type": "markdown",
   "metadata": {},
   "source": [
    "### 3.4 Word Embeddings"
   ]
  },
  {
   "cell_type": "markdown",
   "metadata": {},
   "source": [
    "#### 3.4.1 Frequency distribution"
   ]
  },
  {
   "cell_type": "code",
   "execution_count": 34,
   "metadata": {},
   "outputs": [
    {
     "data": {
      "text/plain": [
       "FreqDist({4: 34, 6: 29, 5: 25, 13: 25, 7: 23, 16: 23, 8: 22, 9: 22, 18: 19, 3: 18, ...})"
      ]
     },
     "execution_count": 34,
     "metadata": {},
     "output_type": "execute_result"
    }
   ],
   "source": [
    "# FreqDist class is used to encode “frequency distributions”, \n",
    "#which count the number of times that each outcome of an experiment occurs.\n",
    "def word_length_distr():\n",
    "    x_review, y_labels =stop_word_removal()  \n",
    "    #let's get the frequency of each word type in a document\n",
    "    fdist = nltk.FreqDist(len(w) for w in x_review)       \n",
    "    return fdist\n",
    "\n",
    "word_length_distr()    "
   ]
  },
  {
   "cell_type": "markdown",
   "metadata": {},
   "source": [
    "#### 3.4.2 CountVectorizer by sklearn "
   ]
  },
  {
   "cell_type": "code",
   "execution_count": 35,
   "metadata": {},
   "outputs": [
    {
     "data": {
      "text/plain": [
       "<13128x2276 sparse matrix of type '<class 'numpy.int64'>'\n",
       "\twith 13128 stored elements in Compressed Sparse Row format>"
      ]
     },
     "execution_count": 35,
     "metadata": {},
     "output_type": "execute_result"
    }
   ],
   "source": [
    "#let's create CountVectorizer() method to create these word embeddings using sklearn\n",
    "def Count_Vectorizer():\n",
    "    x_review, y_labels = stop_word_removal()\n",
    "    #combine all the words into one set\n",
    "    texts = list(itertools.chain.from_iterable(x_review))\n",
    "\n",
    "    #Convert a collection of text documents to a matrix of token counts\n",
    "    vectorizer = CountVectorizer()\n",
    "    transformed_doc = vectorizer.fit_transform(texts)\n",
    "    \n",
    "    return transformed_doc\n",
    "Count_Vectorizer()"
   ]
  },
  {
   "cell_type": "markdown",
   "metadata": {},
   "source": [
    "#### 3.4.3  Word Frequencies with TF-IDF using the Scikit-Learn Library"
   ]
  },
  {
   "cell_type": "code",
   "execution_count": 36,
   "metadata": {},
   "outputs": [
    {
     "data": {
      "text/plain": [
       "TfidfTransformer(norm='l2', smooth_idf=True, sublinear_tf=False, use_idf=True)"
      ]
     },
     "execution_count": 36,
     "metadata": {},
     "output_type": "execute_result"
    }
   ],
   "source": [
    "#term Frequency-Inverse Document Frequency (TF-IDF)\n",
    "#sklearn provides the method TfidfVectorizer to calculate the TF-IDF values\n",
    "def vectorize_text_feature():\n",
    "    docs = Count_Vectorizer()\n",
    "    #combine all the words into one set\n",
    "    texts = list(itertools.chain.from_iterable(docs))  \n",
    "    tfidf_transformer=TfidfTransformer(smooth_idf=True,use_idf=True)\n",
    "    processed_features =tfidf_transformer.fit(docs)\n",
    "    return processed_features\n",
    "\n",
    "vectorize_text_feature()"
   ]
  },
  {
   "cell_type": "markdown",
   "metadata": {},
   "source": [
    "## 4  Making Predictions and Evaluating the Model"
   ]
  },
  {
   "cell_type": "markdown",
   "metadata": {},
   "source": [
    "### 4.1 Build the pipeline"
   ]
  },
  {
   "cell_type": "code",
   "execution_count": 37,
   "metadata": {},
   "outputs": [],
   "source": [
    "#Pipeline of transforms with a final estimator\n",
    "def Pipeline_transform():\n",
    "    #let's create CountVectorizer() method to create these word embeddings using sklearn\n",
    "    #TfidfVectorizer to calculate the TF-IDF values\n",
    "    #MultinomialNB implements the naive Bayes algorithm for multinomially distributed data\n",
    "    text_clf = Pipeline([('vect', CountVectorizer()),\n",
    "                     ('tfidf', TfidfTransformer()),\n",
    "                     ('clf', MultinomialNB())])\n",
    "    # Set the parameters by cross-validatio\n",
    "    tuned_parameters = {'vect__ngram_range': [(1, 1), (1, 2), (2, 2)],\n",
    "                        'tfidf__use_idf': (True, False),\n",
    "                        'tfidf__norm': ('l1', 'l2'),\n",
    "                        'clf__alpha': [1, 1e-1, 1e-2]\n",
    "                        }\n",
    "    return text_clf,tuned_parameters  "
   ]
  },
  {
   "cell_type": "markdown",
   "metadata": {},
   "source": [
    "### 4.2 Split the data into Train and Test"
   ]
  },
  {
   "cell_type": "code",
   "execution_count": 38,
   "metadata": {},
   "outputs": [],
   "source": [
    "def train_test_split_from_balanced_data():\n",
    "    #get the balanced data\n",
    "    x_review, y_labels = balanced_input_data()\n",
    "    \n",
    "    #let's use the train_test_split function in order to make the split with 20% test size  \n",
    "    x_train, x_test, y_train, y_test = train_test_split(x_review,\n",
    "                                                        y_labels, \n",
    "                                                        test_size=0.2, \n",
    "                                                        random_state=42)\n",
    "    \n",
    "    #the function will return train and test data for both the review and the labels \n",
    "    return x_train, x_test, y_train, y_test     \n",
    "    "
   ]
  },
  {
   "cell_type": "markdown",
   "metadata": {},
   "source": [
    "### 4.3 Multinomial Naive Bayes "
   ]
  },
  {
   "cell_type": "code",
   "execution_count": 39,
   "metadata": {},
   "outputs": [
    {
     "name": "stdout",
     "output_type": "stream",
     "text": [
      "Accuracy: 73.27586206896551\n",
      "\n",
      "The main classification metrics: precision,recall, f1-score and   support are: \n",
      "\n",
      "              precision    recall  f1-score   support\n",
      "\n",
      "    Negative       0.78      0.74      0.76        39\n",
      "     Neutral       0.56      0.67      0.61        33\n",
      "    Positive       0.85      0.77      0.81        44\n",
      "\n",
      "    accuracy                           0.73       116\n",
      "   macro avg       0.73      0.73      0.73       116\n",
      "weighted avg       0.75      0.73      0.74       116\n",
      "\n"
     ]
    },
    {
     "name": "stderr",
     "output_type": "stream",
     "text": [
      "C:\\ProgramData\\Anaconda3\\lib\\site-packages\\sklearn\\model_selection\\_search.py:813: DeprecationWarning: The default of the `iid` parameter will change from True to False in version 0.22 and will be removed in 0.24. This will change numeric results when test-set sizes are unequal.\n",
      "  DeprecationWarning)\n"
     ]
    }
   ],
   "source": [
    "def MultinomialNB_classification():\n",
    "    #get the pipeline of the classifiers and the tuned parameters\n",
    "    text_clf,tuned_parameters = Pipeline_transform()\n",
    "    \n",
    "    #let's split the balanced data into training and test set\n",
    "    x_train, x_test, y_train, y_test = train_test_split_from_balanced_data()\n",
    "    \n",
    "\n",
    "    \n",
    "    \"\"\"\n",
    "    According to the sklearn.model_selection.GridSearchCV documentation:\n",
    "    GridSearchCV implements a “fit” and a “score” method. It also implements “predict”,\n",
    "    “predict_proba”, “decision_function”, “transform” \n",
    "    and “inverse_transform”\n",
    "    \"\"\"\n",
    "    #let's train our data using MultinomialNB\n",
    "    clf = GridSearchCV(text_clf, tuned_parameters, cv=10)\n",
    "    clf.fit(x_train, y_train)\n",
    "    \n",
    "    #let's make a predictions on the model\n",
    "    y_pred = clf.predict(x_test)\n",
    "    \n",
    "    # Model Accuracy\n",
    "    print(\"Accuracy:\",(metrics.accuracy_score(y_test, y_pred))*100)\n",
    "    print()\n",
    "    \n",
    "    #let's Build a text report showing the main classification metrics\n",
    "    print(\"The main classification metrics: precision,recall, f1-score and   support are: \\n\")\n",
    "    print(classification_report(y_test, clf.predict(x_test)))  \n",
    "    \n",
    "MultinomialNB_classification()                     "
   ]
  },
  {
   "cell_type": "raw",
   "metadata": {},
   "source": [
    "From the output, we can see that our MultinomialNB algorithm achieved an accuracy of 73.275"
   ]
  },
  {
   "cell_type": "markdown",
   "metadata": {},
   "source": [
    "### 4.4  Random Forest Classifier"
   ]
  },
  {
   "cell_type": "code",
   "execution_count": 41,
   "metadata": {},
   "outputs": [
    {
     "name": "stdout",
     "output_type": "stream",
     "text": [
      "Confusion Matrix\n",
      "[[33  3  2]\n",
      " [12 22  9]\n",
      " [ 5  7 23]]\n",
      "\n",
      "\n",
      "Classification Report\n",
      "              precision    recall  f1-score   support\n",
      "\n",
      "    Negative       0.66      0.87      0.75        38\n",
      "     Neutral       0.69      0.51      0.59        43\n",
      "    Positive       0.68      0.66      0.67        35\n",
      "\n",
      "    accuracy                           0.67       116\n",
      "   macro avg       0.67      0.68      0.67       116\n",
      "weighted avg       0.68      0.67      0.66       116\n",
      "\n",
      "\n",
      "\n",
      "Percentage of accuracy score: \n",
      "67.24137931034483\n",
      "\n",
      "\n"
     ]
    }
   ],
   "source": [
    "def Random_Forest_Classifier():\n",
    "    \n",
    "    #let's balance the review data\n",
    "    docs, labels  = balanced_input_data()\n",
    "    \n",
    "    #let's convert text features into TF-IDF feature vectors\n",
    "    vectorizer = CountVectorizer(max_features=2500, min_df=7, max_df=0.8, stop_words=stopwords.words('english'))\n",
    "    review = vectorizer.fit_transform(docs).toarray()\n",
    "    \n",
    "    #let's split the balanced data into training and test set\n",
    "    X_train, X_test, y_train, y_test = train_test_split(review, labels, test_size=0.2, random_state=0)\n",
    "    \n",
    "    #let's train our data using RandomForestClassifier\n",
    "    text_classifier = RandomForestClassifier(n_estimators=200, random_state=0)\n",
    "    text_classifier.fit(X_train, y_train)\n",
    "    \n",
    "    #let's make a predictions on the model\n",
    "    predictions = text_classifier.predict(X_test)\n",
    "    \n",
    "    \n",
    "    \"\"\"let's evaluate the performance of the machine learning models,\n",
    "    let's use classification metrics such as a confusion metrix, F1 measure, accuracy\"\"\"\n",
    "    \n",
    "    print('Confusion Matrix')\n",
    "    print(confusion_matrix(y_test,predictions))\n",
    "    print('\\n')\n",
    "    print('Classification Report of Random Forest Classifier')\n",
    "    print(classification_report(y_test,predictions))\n",
    "    print('\\n')\n",
    "    #percentage of accuracy score\n",
    "    print(\"Percentage of accuracy score: \")\n",
    "    print((accuracy_score(y_test, predictions))*100)\n",
    "    print('\\n')\n",
    "    \n",
    " \n",
    "Random_Forest_Classifier()"
   ]
  },
  {
   "cell_type": "markdown",
   "metadata": {},
   "source": [
    "From the Random Forest Classifier output, we can see that our algorithm achieved an accuracy of 67.24."
   ]
  },
  {
   "cell_type": "markdown",
   "metadata": {},
   "source": [
    "## 4.5 Support Vector Machine"
   ]
  },
  {
   "cell_type": "code",
   "execution_count": 43,
   "metadata": {},
   "outputs": [],
   "source": [
    "\n",
    "clf_svm = svm.SVC(gamma='scale')"
   ]
  },
  {
   "cell_type": "code",
   "execution_count": 44,
   "metadata": {},
   "outputs": [],
   "source": [
    "docs, labels  = balanced_input_data()\n",
    "    \n",
    "    #let's convert text features into TF-IDF feature vectors\n",
    "vectorizer = CountVectorizer(max_features=2500, min_df=7, max_df=0.8, stop_words=stopwords.words('english'))\n",
    "review = vectorizer.fit_transform(docs).toarray()\n",
    "   \n",
    "    #let's split the balanced data into training and test set\n",
    "X_train, X_test, y_train, y_test = train_test_split(review, labels, test_size=0.2, random_state=0)\n",
    "    "
   ]
  },
  {
   "cell_type": "code",
   "execution_count": 45,
   "metadata": {},
   "outputs": [
    {
     "data": {
      "text/plain": [
       "SVC(C=1.0, cache_size=200, class_weight=None, coef0=0.0,\n",
       "    decision_function_shape='ovr', degree=3, gamma='scale', kernel='rbf',\n",
       "    max_iter=-1, probability=False, random_state=None, shrinking=True,\n",
       "    tol=0.001, verbose=False)"
      ]
     },
     "execution_count": 45,
     "metadata": {},
     "output_type": "execute_result"
    }
   ],
   "source": [
    "clf_svm.fit(X_train,y_train)"
   ]
  },
  {
   "cell_type": "code",
   "execution_count": 47,
   "metadata": {},
   "outputs": [],
   "source": [
    "prediction_linear = clf_svm.predict(X_test)"
   ]
  },
  {
   "cell_type": "code",
   "execution_count": 50,
   "metadata": {},
   "outputs": [],
   "source": [
    "from sklearn.metrics import classification_report\n",
    "report = classification_report(y_test, prediction_linear, output_dict=True)"
   ]
  },
  {
   "cell_type": "code",
   "execution_count": 84,
   "metadata": {},
   "outputs": [
    {
     "data": {
      "text/plain": [
       "{'Negative': {'precision': 0.7441860465116279,\n",
       "  'recall': 0.8421052631578947,\n",
       "  'f1-score': 0.7901234567901234,\n",
       "  'support': 38},\n",
       " 'Neutral': {'precision': 0.6595744680851063,\n",
       "  'recall': 0.7209302325581395,\n",
       "  'f1-score': 0.6888888888888888,\n",
       "  'support': 43},\n",
       " 'Positive': {'precision': 0.7692307692307693,\n",
       "  'recall': 0.5714285714285714,\n",
       "  'f1-score': 0.6557377049180327,\n",
       "  'support': 35},\n",
       " 'accuracy': 0.7155172413793104,\n",
       " 'macro avg': {'precision': 0.7243304279425011,\n",
       "  'recall': 0.7114880223815353,\n",
       "  'f1-score': 0.7115833501990149,\n",
       "  'support': 116},\n",
       " 'weighted avg': {'precision': 0.7203780070532617,\n",
       "  'recall': 0.7155172413793104,\n",
       "  'f1-score': 0.712049424589466,\n",
       "  'support': 116}}"
      ]
     },
     "execution_count": 84,
     "metadata": {},
     "output_type": "execute_result"
    }
   ],
   "source": [
    "report"
   ]
  },
  {
   "cell_type": "code",
   "execution_count": 81,
   "metadata": {},
   "outputs": [
    {
     "name": "stdout",
     "output_type": "stream",
     "text": [
      "Accuracy using SVM is:  71.55172413793103\n"
     ]
    }
   ],
   "source": [
    "#let's print out the accuracy of the SVM algorithm\n",
    "print('Accuracy using SVM is: ',report['accuracy']*100)"
   ]
  },
  {
   "cell_type": "code",
   "execution_count": 82,
   "metadata": {},
   "outputs": [
    {
     "name": "stdout",
     "output_type": "stream",
     "text": [
      "Positive:  {'precision': 0.7692307692307693, 'recall': 0.5714285714285714, 'f1-score': 0.6557377049180327, 'support': 35}\n",
      "Neutral:  {'precision': 0.6595744680851063, 'recall': 0.7209302325581395, 'f1-score': 0.6888888888888888, 'support': 43}\n",
      "Negative:  {'precision': 0.7441860465116279, 'recall': 0.8421052631578947, 'f1-score': 0.7901234567901234, 'support': 38}\n"
     ]
    }
   ],
   "source": [
    "#let't print out the report for the pos,neg and Nutral of the precision,recall and f1 values \n",
    "report = classification_report(y_test, prediction_linear, output_dict=True)\n",
    "print('Positive: ', report['Positive'])\n",
    "print('Neutral: ', report['Neutral'])\n",
    "print('Negative: ', report['Negative'])"
   ]
  },
  {
   "cell_type": "markdown",
   "metadata": {},
   "source": [
    "As we can see the results above, the accuracy of the SVM is 71.55. Better than of the random forest but still, the Naive bayes algorithm performs better."
   ]
  },
  {
   "cell_type": "markdown",
   "metadata": {},
   "source": [
    "# Results and Discussion"
   ]
  },
  {
   "cell_type": "markdown",
   "metadata": {},
   "source": [
    "The main objective of this project is to investigate experimentally customer’s opinion for a specific Amazon product using machine learning algorithms such as Naïve Bayes, Random Forest and support vector machines.\n",
    "In order to evaluate the performance of the models, I have used three standard measures of performance: precision recall f1-score, in addition to the accuracy values. The accuracy value of the models represents the percentage of the test review labels which was classifies correctly based on the trained data. Based on the results of the analysis, the Naïve Bayes model has been achieved 73% of the accuracy. As we can see in table 1, the Naïve Bayes model has best performance when we compare with other classifiers.\n",
    "\n",
    "Multinomial Naive Bayes\n",
    "Class\tPrecision\t  Recall  \tf1-score\n",
    "Negative\t0.78\t0.74\t0.76\n",
    "     Neutral     \t0.56\t0.67\t0.61\n",
    "    Positive      \t0.85\t0.77\t0.81\n",
    " \t \t \t \n",
    "Random Forest Classifier\n",
    "Class\tPrecision\t  Recall  \tf1-score\n",
    "Negative\t0.66\t0.87\t0.75\n",
    "     Neutral     \t0.69\t0.51\t0.59\n",
    "    Positive      \t0.68\t0.66\t0.67\n",
    " \t \t \t \n",
    "Support Vector Machine\n",
    "Class\tPrecision\t  Recall  \tf1-score\n",
    "Negative\t0.744\t0.84\t0.79\n",
    "     Neutral     \t0.659\t0.72\t0.688\n",
    "    Positive      \t0.769\t0.57\t0.655\n"
   ]
  },
  {
   "cell_type": "markdown",
   "metadata": {},
   "source": [
    "# Future work"
   ]
  },
  {
   "cell_type": "markdown",
   "metadata": {},
   "source": [
    "In this project, I have analysis the sentiment analysis for a specific Amazon product of review, but similar analysis for other Automotive products should be done for the future\n",
    "In addition, more review data should be used to train and test the models in order to improve the accuracy of the algorithms. \n"
   ]
  },
  {
   "cell_type": "markdown",
   "metadata": {},
   "source": [
    "# Reference"
   ]
  },
  {
   "cell_type": "markdown",
   "metadata": {},
   "source": [
    "1.\teMarketer Editors, Jul 16, 2018, Amazon Now Has Nearly 50% of US Ecommerce Market” Retrieved from https://www.emarketer.com/content/amazon-now-has-nearly-50-of-us-ecommerce-market \n",
    "2.\tChandraKala S and Sindhu C 2012 Opinion mining and sentiment classification: a survey\n",
    "3.\tAmazon Reviews Dataset - Amazon S3: https://s3.amazonaws.com/amazon-reviews-pds/tsv/index.txt\n",
    "4.\tJin, Hua et al. “Sentiment Visualization on Tweet Stream.” JSW 9 (2014): 2348-2352.\n",
    "5.\tS. Shayaa et al., \"Sentiment analysis of big data: Methods applications and open challenges\", IEEE Access, vol. 6, pp. 37807-37827, 2018. \n",
    "6.\t Opitz, D.; Maclin, R. (1999). \"Popular ensemble methods: An empirical study\". Journal of Artificial Intelligence Research. \n",
    "7.\tJonathan J. Webster & Chunyu Kit City Polytechnic of Hong Kong, “TOKENIZATION AS THE INITIAL PHASE IN NLP’\n",
    "8.\tRajaraman, A.; Ullman, J. D. (2011). \"Data Mining\" (PDF). Mining of Massive Datasets. pp. 1–17.\n",
    "9.\t Bo Pang and Lillian Lee 2008 Opinion mining and sentiment analysis\n",
    "10.\tM. Bouazizi, T. Ohtsuki, \"A pattern-based approach for multi-class sentiment analysis in Twitter\", IEEE Access, vol. 5, pp. 20617-20639, 2017.\n",
    "11.\tA. Zaslavsky, C. Perera, and D. Georgakopoulos, “Sensing as a Service and Big Data,” 2015.\n",
    "\n"
   ]
  }
 ],
 "metadata": {
  "kernelspec": {
   "display_name": "Python 3",
   "language": "python",
   "name": "python3"
  },
  "language_info": {
   "codemirror_mode": {
    "name": "ipython",
    "version": 3
   },
   "file_extension": ".py",
   "mimetype": "text/x-python",
   "name": "python",
   "nbconvert_exporter": "python",
   "pygments_lexer": "ipython3",
   "version": "3.7.1"
  }
 },
 "nbformat": 4,
 "nbformat_minor": 2
}
